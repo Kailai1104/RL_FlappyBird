{
 "cells": [
  {
   "cell_type": "code",
   "execution_count": 7,
   "metadata": {
    "collapsed": true,
    "pycharm": {
     "name": "#%%\n"
    }
   },
   "outputs": [
    {
     "data": {
      "text/plain": "<Figure size 432x288 with 1 Axes>",
      "image/png": "[encoded data removed]"
     },
     "metadata": {
      "needs_background": "light"
     },
     "output_type": "display_data"
    }
   ],
   "source": [
    "from IPython.display import clear_output\n",
    "from Game import *\n",
    "from Agent import *\n",
    "from matplotlib import pyplot as plt\n",
    "import time\n",
    "\n",
    "game = Game(288, 512)\n",
    "game.myBird.reset_play_mode()\n",
    "AIBird = Agent(calculate_state(game.myBird, game.tubes))\n",
    "epoch = 1\n",
    "scores = []\n",
    "init_time = time.time()\n",
    "max_time = 3600 * 2\n",
    "while True:\n",
    "    s_ = game.ai_run(AIBird.choose_action(), epoch)\n",
    "    if not game.game_over_flag:\n",
    "        AIBird.update_q(s_, 1)\n",
    "    else:\n",
    "        AIBird.update_q(s_, -1000)\n",
    "        scores.append(game.score)\n",
    "        game.partial_init()\n",
    "        game.myBird.reset_play_mode()\n",
    "        AIBird.s = calculate_state(game.myBird, game.tubes)\n",
    "        epoch += 1\n",
    "        clear_output()\n",
    "        plt.grid()\n",
    "        plt.plot([i+1 for i in range(epoch-1)], scores, c='#9932CC')\n",
    "        plt.text(np.argmax(scores) + 1, np.max(scores), str(int(np.max(scores))))\n",
    "        plt.show()\n",
    "    n_time = time.time()\n",
    "    if n_time - init_time >= max_time:\n",
    "        pygame.quit()\n",
    "        break\n"
   ]
  },
  {
   "cell_type": "code",
   "execution_count": null,
   "outputs": [],
   "source": [],
   "metadata": {
    "collapsed": false,
    "pycharm": {
     "name": "#%%\n"
    }
   }
  }
 ],
 "metadata": {
  "kernelspec": {
   "display_name": "Python 3",
   "language": "python",
   "name": "python3"
  },
  "language_info": {
   "codemirror_mode": {
    "name": "ipython",
    "version": 2
   },
   "file_extension": ".py",
   "mimetype": "text/x-python",
   "name": "python",
   "nbconvert_exporter": "python",
   "pygments_lexer": "ipython2",
   "version": "2.7.6"
  }
 },
 "nbformat": 4,
 "nbformat_minor": 0
}